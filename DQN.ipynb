{
  "nbformat": 4,
  "nbformat_minor": 0,
  "metadata": {
    "colab": {
      "name": "DQN.ipynb",
      "provenance": [],
      "collapsed_sections": [],
      "mount_file_id": "1SD8EmRCZLMyyLexFyIfUyjdncbFAGxrx",
      "authorship_tag": "ABX9TyP6HrrUmBz0FtjEzR9xwMF6"
    },
    "kernelspec": {
      "name": "python3",
      "display_name": "Python 3"
    }
  },
  "cells": [
    {
      "cell_type": "code",
      "metadata": {
        "id": "CyUwxfv95Xsr",
        "colab": {
          "base_uri": "https://localhost:8080/",
          "height": 34
        },
        "outputId": "1f89b018-2f65-4cd4-a89d-13b52b36b2aa"
      },
      "source": [
        "# !apt-get install -y xvfb python-opengl > /dev/null 2>&1\n",
        "# !pip install gym pyvirtualdisplay > /dev/null 2>&1\n",
        "\n",
        "from google.colab import drive\n",
        "drive.mount('/content/drive')\n",
        "\n",
        "import gym\n",
        "import numpy as np\n",
        "import tensorflow as tf\n",
        "import keras\n",
        "import matplotlib.pyplot as plt\n",
        "import random\n",
        "import pickle\n",
        "import time\n",
        "import cv2"
      ],
      "execution_count": null,
      "outputs": [
        {
          "output_type": "stream",
          "text": [
            "Drive already mounted at /content/drive; to attempt to forcibly remount, call drive.mount(\"/content/drive\", force_remount=True).\n"
          ],
          "name": "stdout"
        }
      ]
    },
    {
      "cell_type": "code",
      "metadata": {
        "id": "RX0lKOT39AcU"
      },
      "source": [
        "class ReplayMemory:\n",
        "    def __init__(self, max_size):\n",
        "        self.buffer = [None] * max_size\n",
        "        self.max_size = max_size\n",
        "        self.index = 0\n",
        "        self.size = 0\n",
        "\n",
        "    def append(self, obj):\n",
        "        self.buffer[self.index] = obj\n",
        "        self.size = min(self.size + 1, self.max_size)\n",
        "        self.index = (self.index + 1) % self.max_size\n",
        "\n",
        "    def sample(self, batch_size):\n",
        "        indices = random.sample(range(self.size), batch_size)\n",
        "        return [self.buffer[index] for index in indices]"
      ],
      "execution_count": null,
      "outputs": []
    },
    {
      "cell_type": "code",
      "metadata": {
        "id": "fYuIWy69Alyk"
      },
      "source": [
        "class Model:\n",
        "    def __init__(self, frame_size, num_actions):\n",
        "        self.model = keras.Sequential()\n",
        "        self.model.add(keras.layers.Dense(512, activation = 'relu', input_shape = (frame_size*128, )))\n",
        "        self.model.add(keras.layers.Dense(256, activation = 'relu'))\n",
        "        self.model.add(keras.layers.Dense(128, activation = 'relu'))\n",
        "        self.model.add(keras.layers.Dense(num_actions))\n",
        "        self.model.compile(optimizer = keras.optimizers.Adam(learning_rate = 0.00001), loss = 'mse', metrics = ['accuracy'])\n",
        "        self.model.summary()"
      ],
      "execution_count": null,
      "outputs": []
    },
    {
      "cell_type": "code",
      "metadata": {
        "id": "NKw3gyGK7H-B"
      },
      "source": [
        "class Agent:\n",
        "    def __init__(self, agent_params):\n",
        "        self.discount = agent_params['discount']\n",
        "        self.epsilon = agent_params['epsilon']\n",
        "        self.num_actions = agent_params['num_actions']\n",
        "        self.exp_size = agent_params['exp_size']\n",
        "        self.frame_size = agent_params['frame_size']\n",
        "        self.merge = agent_params['merge_threshold']\n",
        "        self.batch_size = agent_params['batch_size']\n",
        "        self.last_action = None\n",
        "        self.last_state = None\n",
        "        self.exp = ReplayMemory(self.exp_size)\n",
        "        self.frames = np.zeros((1, self.frame_size*128))\n",
        "        self.target_model = Model(self.frame_size, self.num_actions)\n",
        "        self.value_model = Model(self.frame_size, self.num_actions)\n",
        "        self.num_updates = 0\n",
        "        self.num_steps = 0\n",
        "        self.num_games = 0\n",
        "        self.num_merge = 0\n",
        "        self.waste = 0\n",
        "        self.lives = agent_params['lives']\n",
        "        self.target_model.model.set_weights(self.value_model.model.get_weights())\n",
        "  \n",
        "    def phi(self, state):\n",
        "        new = self.frames[:, 128:].copy()\n",
        "        new = np.concatenate([new, state/255.0], axis = -1)\n",
        "        self.frames = new.copy()\n",
        "        return self.frames\n",
        "    \n",
        "    def phi_init(self):\n",
        "        self.frames = np.zeros((1, self.frame_size*128))\n",
        "\n",
        "    def run(self):\n",
        "        updates = min(self.batch_size, self.exp.size)\n",
        "        self.num_updates += updates\n",
        "        batch = self.exp.sample(updates)\n",
        "\n",
        "        input = [x[0] for x in batch]\n",
        "        inp = [x[3] for x in batch]\n",
        "        x_train = np.concatenate(input, axis = 0)\n",
        "        y_train = self.value_model.model.predict(x_train)\n",
        "        target_action = np.argmax(y_train, axis = 1)\n",
        "        x_target = np.concatenate(inp, axis = 0)\n",
        "        y_target = self.target_model.model.predict(x_target)\n",
        "\n",
        "        for count, memory in enumerate(batch):\n",
        "            last_state, last_action, reward, state, terminal = memory\n",
        "            y_train[count][last_action] = reward + self.discount*y_target[count][target_action[count]]*(1 - terminal)\n",
        "\n",
        "        self.value_model.model.fit(x_train, y_train, verbose = 0, epochs = 1)\n",
        "\n",
        "        if self.num_steps % self.merge == 0:\n",
        "            self.merge_model()\n",
        "\n",
        "    def merge_model(self):\n",
        "        self.target_model.model.set_weights(self.value_model.model.get_weights())\n",
        "        self.num_merge += 1\n",
        "\n",
        "    def epsilon_decay(self):\n",
        "        if self.epsilon >= 0.05:\n",
        "            if self.num_steps >= 50000:\n",
        "                if self.num_steps <= 1050000:\n",
        "                    self.epsilon -= 0.9/1000000\n",
        "                elif self.num_steps <= 2050000:\n",
        "                    self.epsilon -= 0.05/1000000\n",
        "\n",
        "    def choose_action(self, state):\n",
        "        if np.random.random() < self.epsilon:\n",
        "            action = np.random.choice(self.num_actions)\n",
        "        else:\n",
        "            action = np.argmax(self.value_model.model.predict(state)[0])\n",
        "\n",
        "        self.num_steps += 1\n",
        "        self.epsilon_decay()\n",
        "        return action\n",
        "\n",
        "    def agent_start(self, env_state):\n",
        "        self.lives = 5\n",
        "        self.phi_init()\n",
        "        state = self.phi(env_state)\n",
        "        self.last_action = self.choose_action(state)\n",
        "        self.last_state = state\n",
        "        return self.last_action\n",
        "\n",
        "    def agent_step(self, reward, env_state, lives):\n",
        "        state = self.phi(env_state)\n",
        "        if self.waste:\n",
        "            self.waste = 0\n",
        "        elif self.lives > lives:\n",
        "            self.lives = lives\n",
        "            memory = (self.last_state, self.last_action, reward, state, 1)\n",
        "            self.phi_init()\n",
        "            self.exp.append(memory)\n",
        "        else:\n",
        "            memory = (self.last_state, self.last_action, reward, state, 0)\n",
        "            self.exp.append(memory)\n",
        "        self.run()\n",
        "        self.last_action = self.choose_action(state)\n",
        "        self.last_state = state\n",
        "        return self.last_action\n",
        "\n",
        "    def agent_end(self, reward):\n",
        "        memory = (self.last_state, self.last_action, reward, np.zeros((1, 512)), 1)\n",
        "        self.exp.append(memory)\n",
        "        self.run()\n",
        "        self.num_games += 1\n",
        "\n",
        "    def plot(self, states):\n",
        "        y = np.mean(np.max(self.value_model.model.predict(states), axis = 1))\n",
        "        return y"
      ],
      "execution_count": null,
      "outputs": []
    },
    {
      "cell_type": "code",
      "metadata": {
        "id": "6tkITD-4AJ75",
        "colab": {
          "base_uri": "https://localhost:8080/",
          "height": 561
        },
        "outputId": "83ed8fba-4147-42ee-da95-4214ce0cd12b"
      },
      "source": [
        "agent_params = {\n",
        "    'discount' :0.99,\n",
        "    'epsilon' :1.0,\n",
        "    'num_actions' : 4,\n",
        "    'exp_size': 600000,\n",
        "    'frame_size' : 4,\n",
        "    'merge_threshold' : 10000,\n",
        "    'batch_size' : 32,\n",
        "    'lives' : 5\n",
        "}\n",
        "agent = Agent(agent_params)\n",
        "episodes = []\n",
        "q_value = []\n",
        "avg_reward = []"
      ],
      "execution_count": null,
      "outputs": [
        {
          "output_type": "stream",
          "text": [
            "Model: \"sequential_3\"\n",
            "_________________________________________________________________\n",
            "Layer (type)                 Output Shape              Param #   \n",
            "=================================================================\n",
            "dense_9 (Dense)              (None, 512)               262656    \n",
            "_________________________________________________________________\n",
            "dense_10 (Dense)             (None, 256)               131328    \n",
            "_________________________________________________________________\n",
            "dense_11 (Dense)             (None, 128)               32896     \n",
            "_________________________________________________________________\n",
            "dense_12 (Dense)             (None, 4)                 516       \n",
            "=================================================================\n",
            "Total params: 427,396\n",
            "Trainable params: 427,396\n",
            "Non-trainable params: 0\n",
            "_________________________________________________________________\n",
            "Model: \"sequential_4\"\n",
            "_________________________________________________________________\n",
            "Layer (type)                 Output Shape              Param #   \n",
            "=================================================================\n",
            "dense_13 (Dense)             (None, 512)               262656    \n",
            "_________________________________________________________________\n",
            "dense_14 (Dense)             (None, 256)               131328    \n",
            "_________________________________________________________________\n",
            "dense_15 (Dense)             (None, 128)               32896     \n",
            "_________________________________________________________________\n",
            "dense_16 (Dense)             (None, 4)                 516       \n",
            "=================================================================\n",
            "Total params: 427,396\n",
            "Trainable params: 427,396\n",
            "Non-trainable params: 0\n",
            "_________________________________________________________________\n"
          ],
          "name": "stdout"
        }
      ]
    },
    {
      "cell_type": "code",
      "metadata": {
        "id": "KlJ647mKAYbV",
        "colab": {
          "base_uri": "https://localhost:8080/",
          "height": 34
        },
        "outputId": "01993589-cc79-4b70-9cff-4ffea4befe45"
      },
      "source": [
        "env = gym.make('Breakout-ramDeterministic-v4')\n",
        "print(env.action_space)"
      ],
      "execution_count": null,
      "outputs": [
        {
          "output_type": "stream",
          "text": [
            "Discrete(4)\n"
          ],
          "name": "stdout"
        }
      ]
    },
    {
      "cell_type": "code",
      "metadata": {
        "id": "2jmlOB1lrg60"
      },
      "source": [
        "indices = np.random.choice(1, 20000)\n",
        "test_states = np.zeros((20000, 512))\n",
        "for count, index in enumerate(indices):\n",
        "    test_states[count, :] = agent.exp.buffer[index]"
      ],
      "execution_count": null,
      "outputs": []
    },
    {
      "cell_type": "code",
      "metadata": {
        "id": "NcM_jNU3JLR9"
      },
      "source": [
        "def train(agent, env):\n",
        "    num_games = 1000\n",
        "    total = 0\n",
        "    sum = 0\n",
        "    for _ in range(1, num_games+1):\n",
        "        # fourcc = cv2.VideoWriter_fourcc(*'XVID')\n",
        "        # out = cv2.VideoWriter('/content/drive/My Drive/output' + str(_) + '.avi',fourcc,20, (160, 210))   \n",
        "        action = agent.agent_start(env.reset().reshape((1, 128)))\n",
        "        observations, reward, done, info = env.step([action])\n",
        "        # image = env.unwrapped._get_image()\n",
        "        # image = cv2.cvtColor(image,cv2.COLOR_RGB2BGR)\n",
        "        # out.write(image)\n",
        "        total += reward\n",
        "        sum += reward\n",
        "\n",
        "        while not done:\n",
        "            observations, reward, done, info = env.step([agent.agent_step(reward, observations.reshape((1, 128)), env.ale.lives())])\n",
        "            # image = env.unwrapped._get_image()\n",
        "            # image = cv2.cvtColor(image,cv2.COLOR_RGB2BGR)\n",
        "            # out.write(image)\n",
        "            total += reward\n",
        "            sum += reward\n",
        "        agent.agent_end(reward)\n",
        "\n",
        "        if agent.num_games % 50 == 0:\n",
        "            episodes.append(agent.num_games)\n",
        "            q_value.append(agent.plot(test_states))\n",
        "            avg_reward.append(total/50)\n",
        "            total = 0\n",
        "\n",
        "        if agent.num_games % 100 == 0:\n",
        "            print('Games = {}, Steps = {}, Reward = {}'.format(_, agent.num_steps, sum/100))\n",
        "            sum = 0\n",
        "    \n",
        "        if agent.num_games % 400 == 0:\n",
        "            with open('/content/drive/My Drive/DQN/episodes2.pkl', 'wb') as f:\n",
        "                pickle.dump(episodes, f)\n",
        "            with open('/content/drive/My Drive/DQN/q_value2.pkl', 'wb') as f:\n",
        "                pickle.dump(q_value, f)\n",
        "            with open('/content/drive/My Drive/DQN/avg_reward2.pkl', 'wb') as f:\n",
        "                pickle.dump(avg_reward, f)\n",
        "            with open('/content/drive/My Drive/DQN/test_states2.pkl', 'wb') as f:\n",
        "                pickle.dump(test_states, f)\n",
        "            with open('/content/drive/My Drive/DQN/agent2.pkl', 'wb') as f:\n",
        "                pickle.dump(agent, f)\n",
        "        elif agent.num_games % 200 == 0:\n",
        "            with open('/content/drive/My Drive/DQN/episodes3.pkl', 'wb') as f:\n",
        "                pickle.dump(episodes, f)\n",
        "            with open('/content/drive/My Drive/DQN/q_value3.pkl', 'wb') as f:\n",
        "                pickle.dump(q_value, f)\n",
        "            with open('/content/drive/My Drive/DQN/avg_reward3.pkl', 'wb') as f:\n",
        "                pickle.dump(avg_reward, f)\n",
        "            with open('/content/drive/My Drive/DQN/test_states3.pkl', 'wb') as f:\n",
        "                pickle.dump(test_states, f)\n",
        "            with open('/content/drive/My Drive/DQN/agent3.pkl', 'wb') as f:\n",
        "                pickle.dump(agent, f)"
      ],
      "execution_count": null,
      "outputs": []
    },
    {
      "cell_type": "code",
      "metadata": {
        "id": "BAHY6h7EPMoi",
        "colab": {
          "base_uri": "https://localhost:8080/",
          "height": 187
        },
        "outputId": "50cf7ff5-3d1c-4ce3-fd50-f1a878a4a571"
      },
      "source": [
        "train(agent, env)"
      ],
      "execution_count": null,
      "outputs": [
        {
          "output_type": "stream",
          "text": [
            "Games = 100, Steps = 12108998, Reward = 66.07\n",
            "Games = 200, Steps = 12215838, Reward = 58.97\n",
            "Games = 300, Steps = 12331134, Reward = 81.85\n",
            "Games = 400, Steps = 12444458, Reward = 64.12\n",
            "Games = 500, Steps = 12565582, Reward = 73.03\n",
            "Games = 600, Steps = 12674746, Reward = 57.68\n",
            "Games = 700, Steps = 12724836, Reward = 23.47\n",
            "Games = 800, Steps = 12815720, Reward = 52.99\n",
            "Games = 900, Steps = 12928602, Reward = 71.26\n",
            "Games = 1000, Steps = 13025240, Reward = 64.72\n"
          ],
          "name": "stdout"
        }
      ]
    },
    {
      "cell_type": "code",
      "metadata": {
        "id": "LeIhoDBwOkDQ",
        "colab": {
          "base_uri": "https://localhost:8080/",
          "height": 244
        },
        "outputId": "966b77ce-df16-4464-8c56-0fa5ca8301af"
      },
      "source": [
        "from google.colab.patches import cv2_imshow\n",
        "cv2_imshow(env.unwrapped._get_image())\n",
        "print(env.unwrapped._get_image().shape)"
      ],
      "execution_count": null,
      "outputs": [
        {
          "output_type": "display_data",
          "data": {
            "image/png": "[encoded data removed]",
            "text/plain": [
              "<PIL.Image.Image image mode=RGB size=160x210 at 0x7F725178D518>"
            ]
          },
          "metadata": {
            "tags": []
          }
        },
        {
          "output_type": "stream",
          "text": [
            "(210, 160, 3)\n"
          ],
          "name": "stdout"
        }
      ]
    },
    {
      "cell_type": "code",
      "metadata": {
        "id": "Dhon0iOwEaNm"
      },
      "source": [
        "with open('/content/drive/My Drive/DQN/agent2.pkl', 'rb') as f:\n",
        "    agent = pickle.load(f)\n",
        "with open('/content/drive/My Drive/DQN/episodes2.pkl', 'rb') as f:\n",
        "    episodes = pickle.load(f)\n",
        "with open('/content/drive/My Drive/DQN/q_value2.pkl', 'rb') as f:\n",
        "    q_value = pickle.load(f)\n",
        "with open('/content/drive/My Drive/DQN/avg_reward2.pkl', 'rb') as f:\n",
        "    avg_reward = pickle.load(f)\n",
        "with open('/content/drive/My Drive/DQN/test_states2.pkl', 'rb') as f:\n",
        "    test_states = pickle.load(f)"
      ],
      "execution_count": null,
      "outputs": []
    },
    {
      "cell_type": "code",
      "metadata": {
        "id": "44SAmLd0zJ11",
        "colab": {
          "base_uri": "https://localhost:8080/",
          "height": 265
        },
        "outputId": "5ad3d08b-75b0-47ac-9240-37dd5bc8c3f2"
      },
      "source": [
        "plt.plot(episodes, q_value)\n",
        "plt.show()"
      ],
      "execution_count": null,
      "outputs": [
        {
          "output_type": "display_data",
          "data": {
            "image/png": "[encoded data removed]",
            "text/plain": [
              "<Figure size 432x288 with 1 Axes>"
            ]
          },
          "metadata": {
            "tags": [],
            "needs_background": "light"
          }
        }
      ]
    },
    {
      "cell_type": "code",
      "metadata": {
        "id": "PHEmA0Wxs9XL",
        "colab": {
          "base_uri": "https://localhost:8080/",
          "height": 265
        },
        "outputId": "24304cc3-93f4-4db6-8911-68af42f6f9a6"
      },
      "source": [
        "plt.plot(episodes, avg_reward)\n",
        "plt.show()"
      ],
      "execution_count": null,
      "outputs": [
        {
          "output_type": "display_data",
          "data": {
            "image/png": "[encoded data removed]",
            "text/plain": [
              "<Figure size 432x288 with 1 Axes>"
            ]
          },
          "metadata": {
            "tags": [],
            "needs_background": "light"
          }
        }
      ]
    },
    {
      "cell_type": "code",
      "metadata": {
        "id": "ZtSswd4dCy5P",
        "colab": {
          "base_uri": "https://localhost:8080/",
          "height": 34
        },
        "outputId": "faa6fa06-c473-4a76-ef2b-8429da26370a"
      },
      "source": [
        "print(agent.num_games)\n",
        "print(agent.num_steps)\n",
        "print(agent.epsilon)\n",
        "print(np.max(agent.value_model.model.get_weights()[0]))"
      ],
      "execution_count": null,
      "outputs": [
        {
          "output_type": "stream",
          "text": [
            "15000\n"
          ],
          "name": "stdout"
        }
      ]
    },
    {
      "cell_type": "code",
      "metadata": {
        "id": "FmhxJ0Eb_7Nq"
      },
      "source": [
        "class Performer:\n",
        "    def __init__(self, performer_params):\n",
        "        self.num_actions = performer_params['num_actions']\n",
        "        self.frame_size = performer_params['frame_size']\n",
        "        self.last_action = None\n",
        "        self.frames = np.zeros((1, self.frame_size*128))\n",
        "        self.predict_model = Model(self.frame_size, self.num_actions)\n",
        "        self.num_steps = 0\n",
        "        self.lives = agent_params['lives']\n",
        "        self.epsilon = performer_params['epsilon']\n",
        "  \n",
        "    def phi(self, state):\n",
        "        new = self.frames[:, 128:].copy()\n",
        "        new = np.concatenate([new, state/255.0], axis = -1)\n",
        "        self.frames = new.copy()\n",
        "        return self.frames\n",
        "    \n",
        "    def phi_init(self):\n",
        "        self.frames = np.zeros((1, self.frame_size*128))\n",
        "\n",
        "    def choose_action(self, state):\n",
        "        if np.random.random() < self.epsilon:\n",
        "            action = np.random.choice(self.num_actions)\n",
        "        else:\n",
        "            action = np.argmax(self.predict_model.model.predict(state)[0])\n",
        "        self.num_steps += 1\n",
        "        return action\n",
        "\n",
        "    def agent_start(self, env_state):\n",
        "        self.lives = 5\n",
        "        self.phi_init()\n",
        "        state = self.phi(env_state)\n",
        "        self.last_action = self.choose_action(state)\n",
        "        return self.last_action\n",
        "\n",
        "    def agent_step(self, reward, env_state, lives):\n",
        "        state = self.phi(env_state)\n",
        "        if self.lives > lives:\n",
        "            self.lives = lives\n",
        "            self.phi_init()\n",
        "        self.last_action = self.choose_action(state)\n",
        "        return self.last_action"
      ],
      "execution_count": null,
      "outputs": []
    },
    {
      "cell_type": "code",
      "metadata": {
        "id": "Hxc4RO86cTxE"
      },
      "source": [
        "performer = Performer(performer_params = {'num_actions' : 4, 'frame_size'  : 4, 'lives' : 5, 'epsilon' : 0.05})"
      ],
      "execution_count": null,
      "outputs": []
    },
    {
      "cell_type": "code",
      "metadata": {
        "id": "UmsIULv4cWFk"
      },
      "source": [
        "performer.predict_model.model.set_weights(agent.target_model.model.get_weights())"
      ],
      "execution_count": null,
      "outputs": []
    },
    {
      "cell_type": "code",
      "metadata": {
        "id": "edxbrMCrcYZs"
      },
      "source": [
        "def perform(performer, env):\n",
        "    num_games = 20\n",
        "    for i in range(1, num_games+1):\n",
        "        total = 0\n",
        "        action = performer.agent_start(cv2_imshow(env.reset())env.reset().reshape((1, 128)))\n",
        "        observations, reward, done, info = env.step([action])\n",
        "        total += reward\n",
        "\n",
        "        while not done:\n",
        "            observations, reward, done, info = env.step([performer.agent_step(reward, observations.reshape((1, 128)), env.ale.lives())])\n",
        "            total += reward\n",
        "        print('Game {}, Score = {}, Steps = {}'.format(i, total, performer.num_steps))"
      ],
      "execution_count": null,
      "outputs": []
    },
    {
      "cell_type": "code",
      "metadata": {
        "id": "hiQ6lE-ucaT_",
        "colab": {
          "base_uri": "https://localhost:8080/",
          "height": 357
        },
        "outputId": "d773bdcb-8a4e-48f4-d1d4-1b0a6ccf2143"
      },
      "source": [
        "perform(performer, env)"
      ],
      "execution_count": null,
      "outputs": [
        {
          "output_type": "stream",
          "text": [
            "Game 1, Score = 136.0, Steps = 1702\n",
            "Game 2, Score = 37.0, Steps = 2334\n",
            "Game 3, Score = 95.0, Steps = 3632\n",
            "Game 4, Score = 60.0, Steps = 4650\n",
            "Game 5, Score = 64.0, Steps = 5691\n",
            "Game 6, Score = 105.0, Steps = 7228\n",
            "Game 7, Score = 207.0, Steps = 8614\n",
            "Game 8, Score = 75.0, Steps = 9928\n",
            "Game 9, Score = 91.0, Steps = 11443\n",
            "Game 10, Score = 71.0, Steps = 12500\n",
            "Game 11, Score = 58.0, Steps = 13654\n",
            "Game 12, Score = 75.0, Steps = 14943\n",
            "Game 13, Score = 82.0, Steps = 16323\n",
            "Game 14, Score = 313.0, Steps = 17909\n",
            "Game 15, Score = 51.0, Steps = 19092\n",
            "Game 16, Score = 93.0, Steps = 20596\n",
            "Game 17, Score = 107.0, Steps = 21692\n",
            "Game 18, Score = 82.0, Steps = 22806\n",
            "Game 19, Score = 83.0, Steps = 24206\n",
            "Game 20, Score = 79.0, Steps = 25475\n"
          ],
          "name": "stdout"
        }
      ]
    }
  ]
}
